{
 "cells": [
  {
   "attachments": {},
   "cell_type": "markdown",
   "metadata": {},
   "source": [
    "### 데이터셋 구조 비교\n",
    "#### - ICDAR2017_Korean  vs  실습 데이터셋"
   ]
  },
  {
   "cell_type": "code",
   "execution_count": 1,
   "metadata": {},
   "outputs": [],
   "source": [
    "import json\n",
    "import pandas as pd"
   ]
  },
  {
   "cell_type": "code",
   "execution_count": 2,
   "metadata": {},
   "outputs": [],
   "source": [
    "icd_path = '/opt/ml/input/data/ICDAR17_Korean/ufo/train.json'\n",
    "drv_path = '/opt/ml/input/data/dataset/ufo/train.json'\n",
    "\n",
    "with open(icd_path, 'r') as f:\n",
    "    icd = json.load(f)\n",
    "with open(drv_path, 'r') as f:\n",
    "    drv = json.load(f)"
   ]
  },
  {
   "cell_type": "markdown",
   "metadata": {},
   "source": [
    "### 최상위 레벨의 keys 비교"
   ]
  },
  {
   "cell_type": "code",
   "execution_count": 3,
   "metadata": {},
   "outputs": [
    {
     "name": "stdout",
     "output_type": "stream",
     "text": [
      "dict_keys(['images'])\n",
      "dict_keys(['images', 'version', 'tags'])\n"
     ]
    }
   ],
   "source": [
    "print(icd.keys())\n",
    "print(drv.keys())"
   ]
  },
  {
   "cell_type": "code",
   "execution_count": 4,
   "metadata": {},
   "outputs": [
    {
     "name": "stdout",
     "output_type": "stream",
     "text": [
      "221207\n",
      "[]\n"
     ]
    }
   ],
   "source": [
    "print(drv['version'])\n",
    "print(drv['tags'])"
   ]
  },
  {
   "cell_type": "code",
   "execution_count": 5,
   "metadata": {},
   "outputs": [],
   "source": [
    "## drv의 version, tags는 삭제하거나 무시해도 될듯\n",
    "## 원본에는 남겨두되, 통일된 포맷에서는 삭제"
   ]
  },
  {
   "cell_type": "markdown",
   "metadata": {},
   "source": [
    "### images 레벨의 keys 비교"
   ]
  },
  {
   "cell_type": "code",
   "execution_count": 6,
   "metadata": {},
   "outputs": [
    {
     "name": "stdout",
     "output_type": "stream",
     "text": [
      "{'jpg'}\n",
      "{'jpg', 'jpeg', 'JPG'}\n"
     ]
    }
   ],
   "source": [
    "ext_icd = set()\n",
    "ext_drv = set()\n",
    "\n",
    "for i in icd['images'].keys():\n",
    "    ext_icd.add(i.split('.')[-1])\n",
    "for i in drv['images'].keys():\n",
    "    ext_drv.add(i.split('.')[-1])\n",
    "    \n",
    "print(ext_icd)\n",
    "print(ext_drv)"
   ]
  },
  {
   "cell_type": "code",
   "execution_count": 7,
   "metadata": {},
   "outputs": [],
   "source": [
    "## images 레벨에서는 이미지 파일 이름만을 가짐\n",
    "## 조치사항 없음"
   ]
  },
  {
   "cell_type": "markdown",
   "metadata": {},
   "source": [
    "### 이미지 1장 레벨의 keys 비교"
   ]
  },
  {
   "cell_type": "code",
   "execution_count": 8,
   "metadata": {},
   "outputs": [
    {
     "name": "stdout",
     "output_type": "stream",
     "text": [
      "dict_keys(['img_h', 'img_w', 'words', 'tags', 'license_tag'])\n",
      "dict_keys(['paragraphs', 'words', 'chars', 'img_w', 'img_h', 'tags', 'relations', 'annotation_log', 'license_tag'])\n"
     ]
    }
   ],
   "source": [
    "print(icd['images']['img_4380.jpg'].keys())\n",
    "print(drv['images']['0F885DC0-3E65-4081-9DBB-CA96BB6FD4FC.JPG'].keys())"
   ]
  },
  {
   "cell_type": "code",
   "execution_count": 9,
   "metadata": {},
   "outputs": [
    {
     "name": "stdout",
     "output_type": "stream",
     "text": [
      "0\n",
      "0\n",
      "0\n",
      "((worker, NamHyeok), (timestamp, 2022-12-07), (tool_version, ), (source, None))    974\n",
      "Name: annotation_log, dtype: int64\n"
     ]
    }
   ],
   "source": [
    "allimg_drv = pd.DataFrame(drv['images']).T\n",
    "\n",
    "print(sum(allimg_drv['paragraphs'] != {}))\n",
    "print(sum(allimg_drv['chars'] != {}))\n",
    "print(sum(allimg_drv['relations'] != {}))\n",
    "print(allimg_drv['annotation_log'].apply(lambda x : tuple(x.items())).value_counts())\n"
   ]
  },
  {
   "cell_type": "code",
   "execution_count": 10,
   "metadata": {},
   "outputs": [],
   "source": [
    "## drv에서만 존재하는 paragraphs, chars, relations, annotation_log 레벨은 별다른 값을 갖지 않음\n",
    "## 원본에는 남겨두되, 통일된 포맷에서는 삭제"
   ]
  },
  {
   "cell_type": "code",
   "execution_count": 11,
   "metadata": {},
   "outputs": [],
   "source": [
    "# img_h, img_w, words, tags, license_tag 살펴보기 (공통레벨)\n",
    "\n",
    "com_icd = pd.DataFrame(icd['images']).T[['img_h', 'img_w', 'words', 'tags', 'license_tag']]\n",
    "com_drv = pd.DataFrame(drv['images']).T[['img_h', 'img_w', 'words', 'tags', 'license_tag']]"
   ]
  },
  {
   "cell_type": "code",
   "execution_count": 12,
   "metadata": {},
   "outputs": [
    {
     "name": "stdout",
     "output_type": "stream",
     "text": [
      "[2448 2268 3456 1836 2328 4128 2592 3096 3144 1440 1936 1080 3120 3024\n",
      " 1709 3984 1794 2340 2250 1755 1830 1452 2000 2067 3264 1742]\n",
      "[1836 2268 2592 3144 3096 2448 3888 4128 3456 3024 2328 1080 1440 2340\n",
      " 2277 2238 2391 3120 3372 1830 3264 1944 2992 2147]\n",
      "[1440 3265 700 1212 4032 3024 4618 1098 1880 9248 2268 6936 2158 3097 4608\n",
      " 3456 2243 540 720 1080 898 932 1920 2956 784 1205 455 487 364 531 960 810\n",
      " 360 769 351 1504 1696 2774 1772 1012 1172 1128 1280 2160 2220 1334]\n",
      "[1440 4898 618 991 3024 4032 3464 1752 1060 6936 2268 9248 2323 3456 4608\n",
      " 3988 960 1920 1080 3941 1439 677 770 1437 1280 682 810 540 480 720 590\n",
      " 409 1128 2261 2773 3840 2280 1242 2160 467 1334]\n"
     ]
    }
   ],
   "source": [
    "## 1. img_h, img_w\n",
    "print(com_icd['img_h'].unique())\n",
    "print(com_icd['img_w'].unique())\n",
    "print(com_drv['img_h'].unique())\n",
    "print(com_drv['img_w'].unique())\n",
    "\n",
    "## 특이사항 없음"
   ]
  },
  {
   "cell_type": "code",
   "execution_count": 13,
   "metadata": {},
   "outputs": [
    {
     "name": "stdout",
     "output_type": "stream",
     "text": [
      "Index(['points', 'transcription', 'language', 'illegibility', 'orientation',\n",
      "       'word_tags'],\n",
      "      dtype='object')\n",
      "Index(['transcription', 'points', 'orientation', 'language', 'tags',\n",
      "       'confidence', 'illegibility'],\n",
      "      dtype='object')\n"
     ]
    }
   ],
   "source": [
    "## 2. words\n",
    "ann_icd = pd.concat({k: pd.DataFrame(v) for k, v in com_icd['words'].items()}, axis=1).T\n",
    "ann_drv = pd.concat({k: pd.DataFrame(v) for k, v in com_drv['words'].items()}, axis=1).T\n",
    "\n",
    "print(ann_icd.columns)\n",
    "print(ann_drv.columns)"
   ]
  },
  {
   "cell_type": "code",
   "execution_count": 14,
   "metadata": {},
   "outputs": [
    {
     "name": "stdout",
     "output_type": "stream",
     "text": [
      "0\n",
      "0\n",
      "2373 2373\n"
     ]
    }
   ],
   "source": [
    "## 2-1. words _ word_tags, tags, confidence (차이)\n",
    "\n",
    "print(sum(ann_icd['word_tags'].notnull()))\n",
    "## ann_icd 중 word_tags는 모두 null (삭제 or 무시)\n",
    "\n",
    "print(sum(ann_drv['confidence'].notnull()))\n",
    "\n",
    "exc_reg_list = ann_drv['tags'][ann_drv['tags'].apply(lambda x : len(x)) != 0][ann_drv['tags'][ann_drv['tags'].apply(lambda x : len(x)) != 0].apply(lambda x : x[0]) == 'excluded-region'].index\n",
    "no_trans_list = ann_drv['transcription'][ann_drv['transcription'].isnull()].index\n",
    "for i in range(len(exc_reg_list)):\n",
    "    if exc_reg_list[i] != no_trans_list[i]:\n",
    "        print(i)\n",
    "print(len(exc_reg_list), len(no_trans_list))\n",
    "## ann_drv중 confidence는 모두 null (삭제 or 무시)\n",
    "## ann_drv 중 'tags'에 'excluded-region'는 'transcription'이 None인 것과 완벽히 일치\n",
    "## transcription이 None인 것을 지우면 'tags'-'excluded-region'은 신경쓰지 않아도 될듯"
   ]
  },
  {
   "cell_type": "code",
   "execution_count": 15,
   "metadata": {},
   "outputs": [
    {
     "name": "stdout",
     "output_type": "stream",
     "text": [
      "------------------------------\n",
      "<words _ points>\n",
      "\n",
      "0\n",
      "4    4078\n",
      "Name: points, dtype: int64\n",
      "0\n",
      "23627\n",
      "4     22537\n",
      "6       639\n",
      "8       263\n",
      "10       93\n",
      "12       50\n",
      "14       19\n",
      "18       14\n",
      "16       10\n",
      "38        1\n",
      "22        1\n",
      "Name: points, dtype: int64\n"
     ]
    }
   ],
   "source": [
    "## 2-2. words _ points, transcription, language, illegibility, orientation (공통)\n",
    "\n",
    "\n",
    "print('-'*30, '<words _ points>', sep='\\n', end='\\n\\n')\n",
    "## 2-2-1. words _ points (icd_4078, drv_23627)\n",
    "print(sum(ann_icd['points'].apply(lambda x : type(x)) != type([])))\n",
    "print(ann_icd['points'].apply(lambda x : len(x)).value_counts())\n",
    "## points는 모두 list 타입\n",
    "## 빈 값은 없으며, 모두 4개의 점으로 구성\n",
    "print(sum(ann_drv['points'].apply(lambda x : type(x)) != type([])))\n",
    "print(sum(ann_drv['points'].apply(lambda x : len(x)).value_counts()))\n",
    "print(ann_drv['points'].apply(lambda x : len(x)).value_counts())\n",
    "## points는 모두 list 타입\n",
    "## 빈 값은 없으며, 점의 개수는 다양 (모두 짝수)"
   ]
  },
  {
   "cell_type": "code",
   "execution_count": 16,
   "metadata": {},
   "outputs": [
    {
     "name": "stdout",
     "output_type": "stream",
     "text": [
      "------------------------------\n",
      "<words _ transcription, illegibility>\n",
      "\n",
      "[False True]\n",
      "470 470\n",
      "[False True]\n",
      "[None '매일채움견과' 'ARK' '연' '세' '대' '학' '1885' 'YO' 'EE' 'ion' 'an'\n",
      " 'SAVE ZONE' 'CHIANTI' '칙' 'One' '건물' '통행에' '이륜차' 'ARE' ' ' '' 'TWO' 'HAN'\n",
      " 'mation' '편의시설' '니는' '물처럼' '<UNK>' '한' '칼' '전문금융' '100억원' '이내' '8'\n",
      " 'MISSI' '매매' '임대' 'Carlsberg ' '치과' '서울바른후치과의원' '바른후치과' '박애별산부인과' '국민은행'\n",
      " 'KB' '지하' '헤' '망고 ' '스' '<UNK><UNK>' '사' '곱창' '공']\n"
     ]
    }
   ],
   "source": [
    "print('-'*30, '<words _ transcription, illegibility>', sep='\\n', end='\\n\\n')\n",
    "## 2-2-2. words _ transcription, illegibility\n",
    "print(ann_icd['illegibility'].unique())\n",
    "none_ann_list = ann_icd[ann_icd['transcription'] == '###'].index\n",
    "ille_ann_list = ann_icd[ann_icd['illegibility'] == True].index\n",
    "for i in range(len(none_ann_list)):\n",
    "    if none_ann_list[i] != ille_ann_list[i]:\n",
    "        print(i)\n",
    "print(len(none_ann_list), len(ille_ann_list))\n",
    "## illegibility는 True, False만 보유\n",
    "## transcription이 ###인 데이터는 illegibility가 True (transcription을 위주로 살펴도 될듯)\n",
    "print(ann_drv['illegibility'].unique())\n",
    "print(ann_drv[ann_drv['illegibility'] == True]['transcription'].unique())\n",
    "## illegibility는 True, False만 보유\n",
    "## illegibility가 True인 것은 transcription이 None인 것을 포함하지만, None이 아닌 것들은 거의 읽기 불가능한 수준 (무시가능)"
   ]
  },
  {
   "cell_type": "code",
   "execution_count": 17,
   "metadata": {},
   "outputs": [
    {
     "name": "stdout",
     "output_type": "stream",
     "text": [
      "------------------------------\n",
      "<words _ language>\n",
      "\n",
      "0\n",
      "ko    2946\n",
      "en    1132\n",
      "Name: language, dtype: int64\n",
      "5413\n",
      "(en,)               9213\n",
      "(ko,)               8281\n",
      "(others,)            359\n",
      "(en, others)         193\n",
      "(ko, en)             130\n",
      "(ko, others)          36\n",
      "(ko, en, others)       2\n",
      "Name: language, dtype: int64\n",
      "\n",
      "\n",
      "------------------------------\n",
      "<words _ orientation>\n",
      "\n",
      "Horizontal    4078\n",
      "Name: orientation, dtype: int64\n",
      "Horizontal    20799\n",
      "Vertical        386\n",
      "Irregular        69\n",
      "Name: orientation, dtype: int64\n"
     ]
    }
   ],
   "source": [
    "print('-'*30, '<words _ language>', sep='\\n', end='\\n\\n')\n",
    "## 2-2-3. words _ language\n",
    "print(sum(ann_icd['language'].apply(lambda x : len(x)) != 1))\n",
    "print(ann_icd['language'].apply(lambda x : x[0]).value_counts())\n",
    "## language는 ko 또는 en이며, 2개 이상의 값은 없음\n",
    "print(sum(ann_drv['language'].isnull()))\n",
    "print(ann_drv[ann_drv['language'].notnull()]['language'].apply(lambda x : tuple(x)).value_counts())\n",
    "## language는 null 또는 ko, en, others의 조합 (2개 이상 값 존재)\n",
    "\n",
    "\n",
    "print('\\n', '-'*30, '<words _ orientation>', sep='\\n', end='\\n\\n')\n",
    "## 2-2-4. words _ orientation\n",
    "print(ann_icd['orientation'].value_counts())\n",
    "## 모든 글자방향이 Horizontal\n",
    "print(ann_drv['orientation'].value_counts())\n",
    "## 글자방향은 Horizontal, Vertical, Irregular이 존재"
   ]
  },
  {
   "cell_type": "code",
   "execution_count": 18,
   "metadata": {},
   "outputs": [
    {
     "name": "stdout",
     "output_type": "stream",
     "text": [
      "0\n",
      "()                         893\n",
      "(handwriting,)              25\n",
      "(outfocus,)                 24\n",
      "(document,)                 14\n",
      "(noisy,)                    14\n",
      "(noisy, outfocus)            2\n",
      "(handwriting, note)          1\n",
      "(handwriting, outfocus)      1\n",
      "Name: tags, dtype: int64\n",
      "0.08316221765913757\n",
      "\n",
      " ------------------------------\n",
      "((usability, True), (public, True), (commercial, True), (type, CC-BY-SA), (holder, None))    536\n",
      "Name: license_tag, dtype: int64\n",
      "((usability, True), (public, False), (commercial, True), (type, None), (holder, Upstage))    974\n",
      "Name: license_tag, dtype: int64\n"
     ]
    }
   ],
   "source": [
    "## 3. tags, license_tag\n",
    "\n",
    "print(sum(com_icd['tags'].notnull()))\n",
    "print(com_drv['tags'].apply(lambda x : tuple(x)).value_counts())\n",
    "print(sum(com_drv['tags'].apply(lambda x : len(x)) != 0) / len(com_drv))\n",
    "## com_icd는 null만을 소유\n",
    "## com_drv의 8%가 tags를 소유, 학습하는건 크게 의미가 없을듯\n",
    "## 오류분석 시 활용될 수도 있을듯\n",
    "\n",
    "print('\\n', '-'*30)\n",
    "print(com_icd['license_tag'].apply(lambda x : tuple(x.items())).value_counts())\n",
    "print(com_drv['license_tag'].apply(lambda x : tuple(x.items())).value_counts())\n",
    "## license_tag는 별다른 내용을 갖지 않음 (무시 가능할듯)"
   ]
  },
  {
   "cell_type": "code",
   "execution_count": 19,
   "metadata": {},
   "outputs": [],
   "source": [
    "# 최소구조\n",
    "\n",
    "# images\n",
    "### filename\n",
    "##### img_h\n",
    "##### img_w\n",
    "##### words\n",
    "####### points\n",
    "####### transcription\n",
    "####### language\n",
    "####### illegibility\n",
    "####### orientation\n",
    "##### tags\n",
    "##### license_tag"
   ]
  },
  {
   "cell_type": "code",
   "execution_count": null,
   "metadata": {},
   "outputs": [],
   "source": []
  },
  {
   "attachments": {},
   "cell_type": "markdown",
   "metadata": {},
   "source": [
    "### words가 없는 images 제거"
   ]
  },
  {
   "cell_type": "code",
   "execution_count": 20,
   "metadata": {},
   "outputs": [
    {
     "data": {
      "text/plain": [
       "20190608_214923.jpg     {}\n",
       "20200709_164515.jpg     {}\n",
       "20200711_035400.jpg     {}\n",
       "20210914_091031.jpeg    {}\n",
       "20210914_091624.jpeg    {}\n",
       "20210915_141507.jpeg    {}\n",
       "20210915_150130.jpeg    {}\n",
       "Name: words, dtype: object"
      ]
     },
     "execution_count": 20,
     "metadata": {},
     "output_type": "execute_result"
    }
   ],
   "source": [
    "com_drv['words'][com_drv['words'].apply(lambda x : x.values()).apply(lambda x : len(x)) == 0]"
   ]
  },
  {
   "cell_type": "code",
   "execution_count": 21,
   "metadata": {},
   "outputs": [
    {
     "ename": "KeyError",
     "evalue": "'20190608_214923.jpg'",
     "output_type": "error",
     "traceback": [
      "\u001b[0;31m---------------------------------------------------------------------------\u001b[0m",
      "\u001b[0;31mKeyError\u001b[0m                                  Traceback (most recent call last)",
      "File \u001b[0;32m/opt/conda/lib/python3.8/site-packages/pandas/core/indexes/base.py:3361\u001b[0m, in \u001b[0;36mIndex.get_loc\u001b[0;34m(self, key, method, tolerance)\u001b[0m\n\u001b[1;32m   3360\u001b[0m \u001b[39mtry\u001b[39;00m:\n\u001b[0;32m-> 3361\u001b[0m     \u001b[39mreturn\u001b[39;00m \u001b[39mself\u001b[39;49m\u001b[39m.\u001b[39;49m_engine\u001b[39m.\u001b[39;49mget_loc(casted_key)\n\u001b[1;32m   3362\u001b[0m \u001b[39mexcept\u001b[39;00m \u001b[39mKeyError\u001b[39;00m \u001b[39mas\u001b[39;00m err:\n",
      "File \u001b[0;32m/opt/conda/lib/python3.8/site-packages/pandas/_libs/index.pyx:76\u001b[0m, in \u001b[0;36mpandas._libs.index.IndexEngine.get_loc\u001b[0;34m()\u001b[0m\n",
      "File \u001b[0;32m/opt/conda/lib/python3.8/site-packages/pandas/_libs/index.pyx:108\u001b[0m, in \u001b[0;36mpandas._libs.index.IndexEngine.get_loc\u001b[0;34m()\u001b[0m\n",
      "File \u001b[0;32mpandas/_libs/hashtable_class_helper.pxi:5198\u001b[0m, in \u001b[0;36mpandas._libs.hashtable.PyObjectHashTable.get_item\u001b[0;34m()\u001b[0m\n",
      "File \u001b[0;32mpandas/_libs/hashtable_class_helper.pxi:5206\u001b[0m, in \u001b[0;36mpandas._libs.hashtable.PyObjectHashTable.get_item\u001b[0;34m()\u001b[0m\n",
      "\u001b[0;31mKeyError\u001b[0m: '20190608_214923.jpg'",
      "\nThe above exception was the direct cause of the following exception:\n",
      "\u001b[0;31mKeyError\u001b[0m                                  Traceback (most recent call last)",
      "Cell \u001b[0;32mIn[21], line 3\u001b[0m\n\u001b[1;32m      1\u001b[0m \u001b[39m# ann_drv에는 애초에 들어가지 않았음\u001b[39;00m\n\u001b[1;32m      2\u001b[0m \u001b[39m# annotation 개수는 변함없음\u001b[39;00m\n\u001b[0;32m----> 3\u001b[0m ann_drv[:][\u001b[39m'\u001b[39;49m\u001b[39m20190608_214923.jpg\u001b[39;49m\u001b[39m'\u001b[39;49m]\n",
      "File \u001b[0;32m/opt/conda/lib/python3.8/site-packages/pandas/core/frame.py:3458\u001b[0m, in \u001b[0;36mDataFrame.__getitem__\u001b[0;34m(self, key)\u001b[0m\n\u001b[1;32m   3456\u001b[0m \u001b[39mif\u001b[39;00m \u001b[39mself\u001b[39m\u001b[39m.\u001b[39mcolumns\u001b[39m.\u001b[39mnlevels \u001b[39m>\u001b[39m \u001b[39m1\u001b[39m:\n\u001b[1;32m   3457\u001b[0m     \u001b[39mreturn\u001b[39;00m \u001b[39mself\u001b[39m\u001b[39m.\u001b[39m_getitem_multilevel(key)\n\u001b[0;32m-> 3458\u001b[0m indexer \u001b[39m=\u001b[39m \u001b[39mself\u001b[39;49m\u001b[39m.\u001b[39;49mcolumns\u001b[39m.\u001b[39;49mget_loc(key)\n\u001b[1;32m   3459\u001b[0m \u001b[39mif\u001b[39;00m is_integer(indexer):\n\u001b[1;32m   3460\u001b[0m     indexer \u001b[39m=\u001b[39m [indexer]\n",
      "File \u001b[0;32m/opt/conda/lib/python3.8/site-packages/pandas/core/indexes/base.py:3363\u001b[0m, in \u001b[0;36mIndex.get_loc\u001b[0;34m(self, key, method, tolerance)\u001b[0m\n\u001b[1;32m   3361\u001b[0m         \u001b[39mreturn\u001b[39;00m \u001b[39mself\u001b[39m\u001b[39m.\u001b[39m_engine\u001b[39m.\u001b[39mget_loc(casted_key)\n\u001b[1;32m   3362\u001b[0m     \u001b[39mexcept\u001b[39;00m \u001b[39mKeyError\u001b[39;00m \u001b[39mas\u001b[39;00m err:\n\u001b[0;32m-> 3363\u001b[0m         \u001b[39mraise\u001b[39;00m \u001b[39mKeyError\u001b[39;00m(key) \u001b[39mfrom\u001b[39;00m \u001b[39merr\u001b[39;00m\n\u001b[1;32m   3365\u001b[0m \u001b[39mif\u001b[39;00m is_scalar(key) \u001b[39mand\u001b[39;00m isna(key) \u001b[39mand\u001b[39;00m \u001b[39mnot\u001b[39;00m \u001b[39mself\u001b[39m\u001b[39m.\u001b[39mhasnans:\n\u001b[1;32m   3366\u001b[0m     \u001b[39mraise\u001b[39;00m \u001b[39mKeyError\u001b[39;00m(key)\n",
      "\u001b[0;31mKeyError\u001b[0m: '20190608_214923.jpg'"
     ]
    }
   ],
   "source": [
    "# ann_drv에는 애초에 들어가지 않았음\n",
    "# annotation 개수는 변함없음\n",
    "ann_drv[:]['20190608_214923.jpg']"
   ]
  },
  {
   "cell_type": "code",
   "execution_count": null,
   "metadata": {},
   "outputs": [],
   "source": [
    "# words가 없는 이미지를 삭제한 dict 생성\n",
    "import copy\n",
    "new_drv = copy.deepcopy(drv)\n",
    "for i in com_drv['words'][com_drv['words'].apply(lambda x : x.values()).apply(lambda x : len(x)) == 0].keys():\n",
    "    del new_drv['images'][i]\n",
    "    \n",
    "test = pd.DataFrame(new_drv['images']).T[['img_h', 'img_w', 'words', 'tags', 'license_tag']]\n",
    "test"
   ]
  },
  {
   "cell_type": "code",
   "execution_count": null,
   "metadata": {},
   "outputs": [],
   "source": [
    "# 현재 경로에 'new_train.json'으로 저장\n",
    "with open('new_train.json', 'w') as f:\n",
    "    json.dump(new_drv, f, indent=2)"
   ]
  },
  {
   "cell_type": "code",
   "execution_count": null,
   "metadata": {},
   "outputs": [],
   "source": []
  }
 ],
 "metadata": {
  "kernelspec": {
   "display_name": "Python 3.8.5 ('base')",
   "language": "python",
   "name": "python3"
  },
  "language_info": {
   "codemirror_mode": {
    "name": "ipython",
    "version": 3
   },
   "file_extension": ".py",
   "mimetype": "text/x-python",
   "name": "python",
   "nbconvert_exporter": "python",
   "pygments_lexer": "ipython3",
   "version": "3.8.5"
  },
  "orig_nbformat": 4,
  "vscode": {
   "interpreter": {
    "hash": "d4d1e4263499bec80672ea0156c357c1ee493ec2b1c70f0acce89fc37c4a6abe"
   }
  }
 },
 "nbformat": 4,
 "nbformat_minor": 2
}
