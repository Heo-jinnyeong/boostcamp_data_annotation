{
 "cells": [
  {
   "attachments": {},
   "cell_type": "markdown",
   "metadata": {},
   "source": [
    "### DataLoader 상의 이미지 확인하기\n",
    "#### Augmentation 결과 확인"
   ]
  },
  {
   "cell_type": "code",
   "execution_count": 86,
   "metadata": {},
   "outputs": [],
   "source": [
    "from torch.utils.data import Dataset\n",
    "from torch.utils.data import DataLoader\n",
    "from PIL import Image, ImageOps\n",
    "from shapely.geometry import Polygon\n",
    "import albumentations as A\n",
    "from IPython.display import Image\n",
    "from torchvision.transforms.functional import to_pil_image\n",
    "import matplotlib.pyplot as plt\n",
    "\n",
    "import os\n",
    "import sys\n",
    "import cv2\n",
    "import json\n",
    "import torch\n",
    "import numpy as np\n",
    "import os.path as osp\n",
    "import matplotlib.patches as patches\n",
    "# 상위 디렉토리를 import하기 위해, code 폴더를 시스템경로에 추가\n",
    "# sys.path.append('/opt/ml/code/')\n",
    "\n",
    "from dataset import *\n",
    "from east_dataset import *\n",
    "from dataset import SceneTextDataset\n",
    "from east_dataset import EASTDataset"
   ]
  },
  {
   "cell_type": "code",
   "execution_count": 206,
   "metadata": {},
   "outputs": [],
   "source": [
    "class TestAug(SceneTextDataset):\n",
    "    def __init__(self):\n",
    "        super().__init__('/opt/ml/input/data/ICDAR17_All/')\n",
    "\n",
    "    def __getitem__(self, idx):\n",
    "        image_fname = self.image_fnames[idx]\n",
    "        image_fpath = osp.join(self.image_dir, image_fname)\n",
    "\n",
    "        vertices, labels = [], []\n",
    "        for word_info in self.anno['images'][image_fname]['words'].values():\n",
    "            if len(word_info['points']) == 4: \n",
    "                vertices.append(np.array(np.round(word_info['points'])).flatten())\n",
    "                labels.append(int(not word_info['illegibility']))\n",
    "\n",
    "        vertices, labels = np.array(vertices, dtype=np.float32), np.array(labels, dtype=np.int64)\n",
    "        vertices, labels = filter_vertices(vertices, labels, ignore_under=10, drop_under=1)\n",
    "\n",
    "        image = Image.open(image_fpath)\n",
    "        image = ImageOps.exif_transpose(image)\n",
    "        \n",
    "        ### 수정가능영역 시작 ###\n",
    "        image, vertices = resize_img(image, vertices, self.image_size)\n",
    "        image, vertices = adjust_height(image, vertices)\n",
    "        image, vertices = rotate_img(image, vertices)\n",
    "        image, vertices = crop_img(image, vertices, labels, self.crop_size)\n",
    "\n",
    "        if image.mode != 'RGB':\n",
    "            image = image.convert('RGB')\n",
    "        image = np.array(image)\n",
    "\n",
    "        funcs = []\n",
    "        funcs.append(A.OneOf([\n",
    "            A.RandomFog(fog_coef_lower=0.2, fog_coef_upper=0.3,\n",
    "                        alpha_coef=0.08, always_apply=False, p=0.001),\n",
    "            A.RandomRain(p=0.5),\n",
    "            A.RandomShadow(p=0.001),\n",
    "            A.RandomSunFlare(p=0.001)\n",
    "        ]))\n",
    "        \n",
    "        if self.color_jitter:\n",
    "            funcs.append(A.ColorJitter(0.5, 0.5, 0.5, 0.25))\n",
    "        if self.normalize:\n",
    "            funcs.append(A.Normalize(mean=(0.485, 0.456, 0.406), std=(0.229, 0.224, 0.225)))\n",
    "        transform = A.Compose(funcs)\n",
    "        \n",
    "        ### 수정가능영역 종료###\n",
    "\n",
    "        image = transform(image=image)['image']\n",
    "        word_bboxes = np.reshape(vertices, (-1, 4, 2))\n",
    "        roi_mask = generate_roi_mask(image, vertices, labels)\n",
    "\n",
    "        return image, word_bboxes, roi_mask, image_fname\n",
    "        "
   ]
  },
  {
   "cell_type": "code",
   "execution_count": 207,
   "metadata": {},
   "outputs": [],
   "source": [
    "class EAST_4Viz(EASTDataset):\n",
    "    def __init__(self, *args, **kwargs):\n",
    "        super().__init__(*args, **kwargs)\n",
    "    \n",
    "    def __getitem__(self, idx):\n",
    "            image, word_bboxes, roi_mask, file_name = self.dataset[idx]\n",
    "            score_map, geo_map = generate_score_geo_maps(image, word_bboxes, map_scale=self.map_scale)\n",
    "\n",
    "            mask_size = int(image.shape[0] * self.map_scale), int(image.shape[1] * self.map_scale)\n",
    "            roi_mask = cv2.resize(roi_mask, dsize=mask_size)\n",
    "            if roi_mask.ndim == 2:\n",
    "                roi_mask = np.expand_dims(roi_mask, axis=2)\n",
    "\n",
    "            if self.to_tensor:\n",
    "                image = torch.Tensor(image).permute(2, 0, 1)\n",
    "                score_map = torch.Tensor(score_map).permute(2, 0, 1)\n",
    "                geo_map = torch.Tensor(geo_map).permute(2, 0, 1)\n",
    "                roi_mask = torch.Tensor(roi_mask).permute(2, 0, 1)\n",
    "\n",
    "            return image, score_map, geo_map, roi_mask, file_name, word_bboxes\n"
   ]
  },
  {
   "cell_type": "code",
   "execution_count": 208,
   "metadata": {},
   "outputs": [],
   "source": [
    "sample_num = 1\n",
    "\n",
    "dataset = TestAug()\n",
    "visual_dataset = EAST_4Viz(dataset)\n",
    "visual_dataloader = DataLoader(visual_dataset, batch_size=sample_num, shuffle=True)"
   ]
  },
  {
   "cell_type": "code",
   "execution_count": null,
   "metadata": {},
   "outputs": [],
   "source": [
    "# 실행할 때마다 랜덤한 이미지를 보여줌\n",
    "# 이미지마다 bbox의 개수가 달라서, 한 번에 한 장씩만 시각화 가능\n",
    "\n",
    "fig = plt.figure(figsize=(20, 20))\n",
    "    \n",
    "for img, gt_score_map, gt_geo_map, roi_mask, file_name, word_bboxes in visual_dataloader:\n",
    "    for i in range(sample_num):\n",
    "        ax = fig.add_subplot(1, 1, i+1)\n",
    "        imgs = to_pil_image(img[i])\n",
    "        ax.imshow(imgs)\n",
    "        \n",
    "        for bbox in word_bboxes[i]:\n",
    "            poly = patches.Polygon(bbox, closed=True, edgecolor='black', fill=False, lw=5)\n",
    "            ax.add_patch(poly)\n",
    "    break\n",
    "plt.show()"
   ]
  },
  {
   "cell_type": "code",
   "execution_count": null,
   "metadata": {},
   "outputs": [],
   "source": []
  }
 ],
 "metadata": {
  "kernelspec": {
   "display_name": "base",
   "language": "python",
   "name": "python3"
  },
  "language_info": {
   "codemirror_mode": {
    "name": "ipython",
    "version": 3
   },
   "file_extension": ".py",
   "mimetype": "text/x-python",
   "name": "python",
   "nbconvert_exporter": "python",
   "pygments_lexer": "ipython3",
   "version": "3.8.5"
  },
  "orig_nbformat": 4,
  "vscode": {
   "interpreter": {
    "hash": "d4d1e4263499bec80672ea0156c357c1ee493ec2b1c70f0acce89fc37c4a6abe"
   }
  }
 },
 "nbformat": 4,
 "nbformat_minor": 2
}
