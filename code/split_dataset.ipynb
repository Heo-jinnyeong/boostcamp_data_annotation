{
 "cells": [
  {
   "cell_type": "code",
   "execution_count": 1,
   "id": "b6a22d4e-9734-4e42-8a96-ae9fa114683c",
   "metadata": {},
   "outputs": [],
   "source": [
    "from sklearn.model_selection import train_test_split\n",
    "from glob import glob\n",
    "import shutil\n",
    "import json\n",
    "import os\n",
    "\n",
    "image_files = glob(\"/opt/ml/input/dataset/*.JP*\") + glob(\"/opt/ml/input/dataset/*.jp*\")\n",
    "\n",
    "train_data, valid_data = train_test_split(image_files, test_size=0.2, random_state=42, shuffle=True)"
   ]
  },
  {
   "cell_type": "code",
   "execution_count": 2,
   "id": "72e399be-1f19-4308-98a4-7a82323d9ff3",
   "metadata": {},
   "outputs": [],
   "source": [
    "for data in train_data:\n",
    "    shutil.copy(data, '/opt/ml/input/data/train_image')\n",
    "\n",
    "for data in valid_data:\n",
    "    shutil.copy(data, '/opt/ml/input/data/valid_image')"
   ]
  },
  {
   "cell_type": "code",
   "execution_count": 3,
   "id": "6645b7d9-9142-4499-98e2-d392544b63d4",
   "metadata": {},
   "outputs": [
    {
     "name": "stdout",
     "output_type": "stream",
     "text": [
      "1202\n",
      "301\n"
     ]
    }
   ],
   "source": [
    "path = \"/opt/ml/input/data/train_image\"\n",
    "train_file_list = os.listdir(path)\n",
    "print(len(train_file_list))\n",
    "\n",
    "path = '/opt/ml/input/data/valid_image'\n",
    "valid_file_list = os.listdir(path)\n",
    "print(len(valid_file_list))"
   ]
  },
  {
   "cell_type": "code",
   "execution_count": 4,
   "id": "f504fe7a-3919-4be0-b27f-ed41bd2c3343",
   "metadata": {},
   "outputs": [],
   "source": [
    "with open('/opt/ml/input/dataset/final_train.json', 'r') as f: data=json.load(f)\n",
    "\n",
    "train_json = dict()\n",
    "valid_json = dict()\n",
    "\n",
    "for file in train_file_list:\n",
    "    train_json[file] = data['images'][str(file)]\n",
    "\n",
    "for file in valid_file_list:\n",
    "    valid_json[file] = data['images'][str(file)]"
   ]
  },
  {
   "cell_type": "code",
   "execution_count": 5,
   "id": "d52ef6bd-7dcd-4ca0-a759-326067c7ff63",
   "metadata": {},
   "outputs": [],
   "source": [
    "final_train_json = {'images' : train_json}\n",
    "final_valid_json = {'images' : valid_json}"
   ]
  },
  {
   "cell_type": "code",
   "execution_count": 6,
   "id": "c69ce873-bd04-4153-8955-c81d0a42693d",
   "metadata": {
    "tags": []
   },
   "outputs": [],
   "source": [
    "with open('/opt/ml/input/data/ufo/train.json', 'w') as f:\n",
    "    json.dump(final_train_json, f)\n",
    "    \n",
    "with open('/opt/ml/input/data/ufo/valid.json', 'w') as f:\n",
    "    json.dump(final_valid_json, f)"
   ]
  },
  {
   "cell_type": "code",
   "execution_count": null,
   "id": "388b6baa-4db5-462a-9e07-8607ede1e2e0",
   "metadata": {
    "tags": []
   },
   "outputs": [],
   "source": []
  }
 ],
 "metadata": {
  "kernelspec": {
   "display_name": "Python 3 (ipykernel)",
   "language": "python",
   "name": "python3"
  }
 },
 "nbformat": 4,
 "nbformat_minor": 5
}
